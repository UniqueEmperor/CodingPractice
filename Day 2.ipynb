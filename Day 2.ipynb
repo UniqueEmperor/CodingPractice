{
  "cells": [
    {
      "cell_type": "markdown",
      "metadata": {
        "id": "view-in-github",
        "colab_type": "text"
      },
      "source": [
        "<a href=\"https://colab.research.google.com/github/UniqueEmperor/CodingPractice/blob/main/Day%202.ipynb\" target=\"_parent\"><img src=\"https://colab.research.google.com/assets/colab-badge.svg\" alt=\"Open In Colab\"/></a>"
      ]
    },
    {
      "cell_type": "markdown",
      "source": [
        "Day 3\n",
        "\n",
        "Write a program which can compute the factorial of a given numbers.The results should be printed in a single line."
      ],
      "metadata": {
        "id": "7aVyqo-aK8pN"
      }
    },
    {
      "cell_type": "code",
      "source": [
        "value=int(input(\"Enter a Value\\n\"))\n",
        "result=1\n",
        "for i in range(1,value+1):\n",
        "  result*=i\n",
        "print(result)"
      ],
      "metadata": {
        "id": "cUBzhHdwLcuV",
        "outputId": "56dd7c55-be2f-45af-dbc6-3ac879123aa8",
        "colab": {
          "base_uri": "https://localhost:8080/"
        }
      },
      "execution_count": 2,
      "outputs": [
        {
          "output_type": "stream",
          "name": "stdout",
          "text": [
            "Enter a Value\n",
            "8\n",
            "40320\n"
          ]
        }
      ]
    },
    {
      "cell_type": "code",
      "source": [
        "def fact(value):\n",
        "  if value==0:\n",
        "    return 1\n",
        "  return value*fact(value-1)\n",
        "print(fact(value))"
      ],
      "metadata": {
        "id": "vrttm-rFMb91",
        "outputId": "2404d2f2-8612-4e37-f3e1-8c119e6e8b2c",
        "colab": {
          "base_uri": "https://localhost:8080/"
        }
      },
      "execution_count": 4,
      "outputs": [
        {
          "output_type": "stream",
          "name": "stdout",
          "text": [
            "40320\n"
          ]
        }
      ]
    }
  ],
  "metadata": {
    "colab": {
      "name": "Welcome To Colaboratory",
      "toc_visible": true,
      "provenance": [],
      "include_colab_link": true
    },
    "kernelspec": {
      "display_name": "Python 3",
      "name": "python3"
    }
  },
  "nbformat": 4,
  "nbformat_minor": 0
}